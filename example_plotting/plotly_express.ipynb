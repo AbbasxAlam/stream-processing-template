{
 "cells": [
  {
   "cell_type": "code",
   "execution_count": null,
   "metadata": {},
   "outputs": [],
   "source": [
    "!pip install plotly pyspark requests"
   ]
  },
  {
   "cell_type": "code",
   "execution_count": null,
   "metadata": {},
   "outputs": [],
   "source": [
    "import requests\n",
    "import pandas as pd\n",
    "import plotly.express as px\n",
    "from pyspark.sql import SparkSession\n",
    "import json\n",
    "import time\n",
    "from IPython.display import clear_output\n"
   ]
  },
  {
   "cell_type": "code",
   "execution_count": null,
   "metadata": {},
   "outputs": [],
   "source": [
    "\n",
    "# Initialize Spark session\n",
    "spark = SparkSession.builder.appName(\"MonsterDamageStream\").getOrCreate()\n",
    "\n",
    "# Initialize a DataFrame to store cumulative damages\n",
    "cumulative_df = pd.DataFrame(columns=['country', 'total_damage'])\n",
    "cumulative_df.set_index('country', inplace=True)"
   ]
  },
  {
   "cell_type": "code",
   "execution_count": null,
   "metadata": {},
   "outputs": [],
   "source": [
    "def fetch_and_update():\n",
    "    global cumulative_df\n",
    "    # Read from the endpoint\n",
    "    response = requests.get('http://18.133.251.249:5000/get_messages')\n",
    "    messages = response.json()\n",
    "\n",
    "    # Convert each JSON string in the list to a dictionary\n",
    "    messages_dict_list = [json.loads(msg) for msg in messages]\n",
    "\n",
    "    # Convert the list of dictionaries to a DataFrame\n",
    "    df = spark.createDataFrame(pd.DataFrame(messages_dict_list))\n",
    "\n",
    "    # Sum the damage by country\n",
    "    grouped_df = df.groupBy(\"country\").agg({\"damage\": \"sum\"}).withColumnRenamed(\"sum(damage)\", \"total_damage\").toPandas()\n",
    "    grouped_df.set_index('country', inplace=True)\n",
    "\n",
    "    # Update the cumulative damages\n",
    "    for country, row in grouped_df.iterrows():\n",
    "        if country in cumulative_df.index:\n",
    "            cumulative_df.loc[country, 'total_damage'] += row['total_damage']\n",
    "        else:\n",
    "            cumulative_df.loc[country, 'total_damage'] = row['total_damage']\n",
    "    \n",
    "    # Sort by damage and take the top 7\n",
    "    top_countries = cumulative_df.sort_values('total_damage', ascending=False).head(7)\n",
    "\n",
    "    # Use Plotly Express for plotting\n",
    "    fig = px.bar(top_countries, x=top_countries.index, y='total_damage', title='Top 7 Most Damaged Countries')\n",
    "    fig.show()"
   ]
  },
  {
   "cell_type": "code",
   "execution_count": null,
   "metadata": {},
   "outputs": [],
   "source": [
    "while True:\n",
    "    clear_output(wait=True)  # Clear the previous chart\n",
    "    fetch_and_update()  # Fetch, update, and plot the new data\n",
    "    time.sleep(10)  # Wait for 10 seconds before the next iteration\n"
   ]
  }
 ],
 "metadata": {
  "kernelspec": {
   "display_name": "dnd-venv",
   "language": "python",
   "name": "python3"
  },
  "language_info": {
   "codemirror_mode": {
    "name": "ipython",
    "version": 3
   },
   "file_extension": ".py",
   "mimetype": "text/x-python",
   "name": "python",
   "nbconvert_exporter": "python",
   "pygments_lexer": "ipython3",
   "version": "3.11.5"
  }
 },
 "nbformat": 4,
 "nbformat_minor": 2
}
